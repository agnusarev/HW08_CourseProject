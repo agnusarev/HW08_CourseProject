{
 "cells": [
  {
   "cell_type": "code",
   "execution_count": 1,
   "id": "2839fa75",
   "metadata": {},
   "outputs": [],
   "source": [
    "import pandas as pd\n",
    "import numpy as np\n",
    "import matplotlib.pyplot as plt\n",
    "import seaborn as sns\n",
    "import json\n",
    "from tqdm import tqdm_notebook\n",
    "\n",
    "import warnings\n",
    "warnings.filterwarnings(\"ignore\")\n",
    "\n",
    "%matplotlib inline"
   ]
  },
  {
   "cell_type": "code",
   "execution_count": 2,
   "id": "a984d8b6",
   "metadata": {},
   "outputs": [],
   "source": [
    "with open('comments_full.json', encoding = 'utf-8') as json_file:\n",
    "    data = json.load(json_file)"
   ]
  },
  {
   "cell_type": "code",
   "execution_count": 3,
   "id": "3f12108d",
   "metadata": {},
   "outputs": [],
   "source": [
    "df = pd.DataFrame.from_dict(data, orient='columns')"
   ]
  },
  {
   "cell_type": "code",
   "execution_count": 4,
   "id": "0ab21518",
   "metadata": {},
   "outputs": [
    {
     "data": {
      "text/html": [
       "<div>\n",
       "<style scoped>\n",
       "    .dataframe tbody tr th:only-of-type {\n",
       "        vertical-align: middle;\n",
       "    }\n",
       "\n",
       "    .dataframe tbody tr th {\n",
       "        vertical-align: top;\n",
       "    }\n",
       "\n",
       "    .dataframe thead th {\n",
       "        text-align: right;\n",
       "    }\n",
       "</style>\n",
       "<table border=\"1\" class=\"dataframe\">\n",
       "  <thead>\n",
       "    <tr style=\"text-align: right;\">\n",
       "      <th></th>\n",
       "      <th>type_comment</th>\n",
       "      <th>date_comment</th>\n",
       "      <th>text_comment</th>\n",
       "      <th>name_movie</th>\n",
       "    </tr>\n",
       "  </thead>\n",
       "  <tbody>\n",
       "    <tr>\n",
       "      <th>0</th>\n",
       "      <td>good</td>\n",
       "      <td>19 апреля 2019 | 16:02</td>\n",
       "      <td>Наверное, когда один человек отводит себе в фи...</td>\n",
       "      <td>Воин</td>\n",
       "    </tr>\n",
       "    <tr>\n",
       "      <th>1</th>\n",
       "      <td>good</td>\n",
       "      <td>05 июня 2019 | 14:30</td>\n",
       "      <td>2 июня вышла в свет первая часть фильма о воин...</td>\n",
       "      <td>321-я сибирская</td>\n",
       "    </tr>\n",
       "    <tr>\n",
       "      <th>2</th>\n",
       "      <td>good</td>\n",
       "      <td>07 января 2016 | 15:34</td>\n",
       "      <td>Тяжелая судьба Вольфганга Амадея Моцарта легла...</td>\n",
       "      <td>Моцарт. Рок-опера</td>\n",
       "    </tr>\n",
       "    <tr>\n",
       "      <th>3</th>\n",
       "      <td>good</td>\n",
       "      <td>05 января 2016 | 03:52</td>\n",
       "      <td>Эх, видит бог, я мало что смыслю в рецензиях и...</td>\n",
       "      <td>Моцарт. Рок-опера</td>\n",
       "    </tr>\n",
       "    <tr>\n",
       "      <th>4</th>\n",
       "      <td>good</td>\n",
       "      <td>14 августа 2015 | 17:25</td>\n",
       "      <td>Прошло уже три десятка лет после премьеры леге...</td>\n",
       "      <td>Моцарт. Рок-опера</td>\n",
       "    </tr>\n",
       "  </tbody>\n",
       "</table>\n",
       "</div>"
      ],
      "text/plain": [
       "  type_comment             date_comment  \\\n",
       "0         good   19 апреля 2019 | 16:02   \n",
       "1         good     05 июня 2019 | 14:30   \n",
       "2         good   07 января 2016 | 15:34   \n",
       "3         good   05 января 2016 | 03:52   \n",
       "4         good  14 августа 2015 | 17:25   \n",
       "\n",
       "                                        text_comment         name_movie  \n",
       "0  Наверное, когда один человек отводит себе в фи...               Воин  \n",
       "1  2 июня вышла в свет первая часть фильма о воин...    321-я сибирская  \n",
       "2  Тяжелая судьба Вольфганга Амадея Моцарта легла...  Моцарт. Рок-опера  \n",
       "3  Эх, видит бог, я мало что смыслю в рецензиях и...  Моцарт. Рок-опера  \n",
       "4  Прошло уже три десятка лет после премьеры леге...  Моцарт. Рок-опера  "
      ]
     },
     "execution_count": 4,
     "metadata": {},
     "output_type": "execute_result"
    }
   ],
   "source": [
    "df.head()"
   ]
  },
  {
   "cell_type": "code",
   "execution_count": 5,
   "id": "89e5e69d",
   "metadata": {},
   "outputs": [
    {
     "name": "stdout",
     "output_type": "stream",
     "text": [
      "<class 'pandas.core.frame.DataFrame'>\n",
      "RangeIndex: 552671 entries, 0 to 552670\n",
      "Data columns (total 4 columns):\n",
      " #   Column        Non-Null Count   Dtype \n",
      "---  ------        --------------   ----- \n",
      " 0   type_comment  552671 non-null  object\n",
      " 1   date_comment  552671 non-null  object\n",
      " 2   text_comment  552671 non-null  object\n",
      " 3   name_movie    552671 non-null  object\n",
      "dtypes: object(4)\n",
      "memory usage: 16.9+ MB\n"
     ]
    }
   ],
   "source": [
    "df.info()"
   ]
  },
  {
   "cell_type": "markdown",
   "id": "884d3178",
   "metadata": {},
   "source": [
    "всего у нас 552 671 рецензии"
   ]
  },
  {
   "cell_type": "code",
   "execution_count": 6,
   "id": "b43466d5",
   "metadata": {},
   "outputs": [
    {
     "data": {
      "text/plain": [
       "good       362851\n",
       "neutral    101567\n",
       "bad         88253\n",
       "Name: type_comment, dtype: int64"
      ]
     },
     "execution_count": 6,
     "metadata": {},
     "output_type": "execute_result"
    }
   ],
   "source": [
    "df['type_comment'].value_counts()"
   ]
  },
  {
   "cell_type": "code",
   "execution_count": 7,
   "id": "2418de8c",
   "metadata": {},
   "outputs": [
    {
     "data": {
      "text/plain": [
       "<AxesSubplot:>"
      ]
     },
     "execution_count": 7,
     "metadata": {},
     "output_type": "execute_result"
    },
    {
     "data": {
      "image/png": "[encoded data removed]",
      "text/plain": [
       "<Figure size 576x432 with 1 Axes>"
      ]
     },
     "metadata": {
      "needs_background": "light"
     },
     "output_type": "display_data"
    }
   ],
   "source": [
    "df['type_comment'].value_counts().plot(kind='bar', rot=45, figsize=(8, 6))"
   ]
  },
  {
   "cell_type": "markdown",
   "id": "d8a3f83e",
   "metadata": {},
   "source": [
    "из графика видно что распределение по типу рецензий неравномерное"
   ]
  },
  {
   "cell_type": "code",
   "execution_count": 9,
   "id": "bfd62b9c",
   "metadata": {},
   "outputs": [
    {
     "data": {
      "text/plain": [
       "<AxesSubplot:>"
      ]
     },
     "execution_count": 9,
     "metadata": {},
     "output_type": "execute_result"
    },
    {
     "data": {
      "image/png": "[encoded data removed]",
      "text/plain": [
       "<Figure size 576x432 with 1 Axes>"
      ]
     },
     "metadata": {
      "needs_background": "light"
     },
     "output_type": "display_data"
    }
   ],
   "source": [
    "df['name_movie'].value_counts()[:10].plot(kind='bar', rot=90, figsize=(8, 6))"
   ]
  },
  {
   "cell_type": "markdown",
   "id": "4c844687",
   "metadata": {},
   "source": [
    "наибольшее количество рецензий имеент Аватар - оно и понятно, некоторое время это был самый кассовый фильм в мире"
   ]
  },
  {
   "cell_type": "code",
   "execution_count": 10,
   "id": "c84c2e76",
   "metadata": {},
   "outputs": [
    {
     "data": {
      "text/plain": [
       "Аватар                      2400\n",
       "Сумерки                     1746\n",
       "Начало                      1697\n",
       "Сумерки. Сага. Новолуние    1566\n",
       "Интерстеллар                1200\n",
       "2012                        1164\n",
       "Шерлок Холмс                1084\n",
       "Темный рыцарь               1045\n",
       "Алиса в Стране чудес        1000\n",
       "Великий Гэтсби               964\n",
       "Name: name_movie, dtype: int64"
      ]
     },
     "execution_count": 10,
     "metadata": {},
     "output_type": "execute_result"
    }
   ],
   "source": [
    "df['name_movie'].value_counts()[:10]"
   ]
  },
  {
   "cell_type": "code",
   "execution_count": 11,
   "id": "0f88dd8d",
   "metadata": {},
   "outputs": [
    {
     "data": {
      "text/plain": [
       "10106"
      ]
     },
     "execution_count": 11,
     "metadata": {},
     "output_type": "execute_result"
    }
   ],
   "source": [
    "df['name_movie'].nunique()"
   ]
  },
  {
   "cell_type": "markdown",
   "id": "2e774522",
   "metadata": {},
   "source": [
    "имеется рецензий на 10 106 фильмов"
   ]
  },
  {
   "cell_type": "code",
   "execution_count": 12,
   "id": "25808602",
   "metadata": {},
   "outputs": [
    {
     "data": {
      "text/html": [
       "<div>\n",
       "<style scoped>\n",
       "    .dataframe tbody tr th:only-of-type {\n",
       "        vertical-align: middle;\n",
       "    }\n",
       "\n",
       "    .dataframe tbody tr th {\n",
       "        vertical-align: top;\n",
       "    }\n",
       "\n",
       "    .dataframe thead th {\n",
       "        text-align: right;\n",
       "    }\n",
       "</style>\n",
       "<table border=\"1\" class=\"dataframe\">\n",
       "  <thead>\n",
       "    <tr style=\"text-align: right;\">\n",
       "      <th></th>\n",
       "      <th>type_comment</th>\n",
       "      <th>date_comment</th>\n",
       "      <th>text_comment</th>\n",
       "      <th>name_movie</th>\n",
       "    </tr>\n",
       "  </thead>\n",
       "  <tbody>\n",
       "  </tbody>\n",
       "</table>\n",
       "</div>"
      ],
      "text/plain": [
       "Empty DataFrame\n",
       "Columns: [type_comment, date_comment, text_comment, name_movie]\n",
       "Index: []"
      ]
     },
     "execution_count": 12,
     "metadata": {},
     "output_type": "execute_result"
    }
   ],
   "source": [
    "df[df.duplicated(['text_comment'], keep=False)]"
   ]
  },
  {
   "cell_type": "code",
   "execution_count": null,
   "id": "86b77803",
   "metadata": {},
   "outputs": [],
   "source": [
    "# df = df.drop_duplicates(subset=['text_comment'])"
   ]
  },
  {
   "cell_type": "code",
   "execution_count": null,
   "id": "8a05ac0e",
   "metadata": {},
   "outputs": [],
   "source": [
    "# df[df.duplicated(['text_comment'], keep=False)]"
   ]
  },
  {
   "cell_type": "code",
   "execution_count": 13,
   "id": "9b407f5c",
   "metadata": {},
   "outputs": [],
   "source": [
    "df_good = df.loc[df['type_comment'] == 'good']\n",
    "df_bad = df.loc[df['type_comment'] == 'bad']\n",
    "df_neutral = df.loc[df['type_comment'] == 'neutral']"
   ]
  },
  {
   "cell_type": "code",
   "execution_count": 14,
   "id": "30d637a8",
   "metadata": {},
   "outputs": [
    {
     "name": "stdout",
     "output_type": "stream",
     "text": [
      "count good comments \t362851\n",
      "count bad comments \t88253\n",
      "count neutral comments \t101567\n"
     ]
    }
   ],
   "source": [
    "print('count good comments \\t{}'.format(df_good.shape[0]))\n",
    "print('count bad comments \\t{}'.format(df_bad.shape[0]))\n",
    "print('count neutral comments \\t{}'.format(df_neutral.shape[0]))"
   ]
  },
  {
   "cell_type": "code",
   "execution_count": 15,
   "id": "9fd72a49",
   "metadata": {},
   "outputs": [],
   "source": [
    "df_good_test = df_good.sample(1000)\n",
    "df_bad_test = df_bad.sample(1000)\n",
    "df_neutral_test = df_neutral.sample(1000)"
   ]
  },
  {
   "cell_type": "code",
   "execution_count": 16,
   "id": "a1aea3f6",
   "metadata": {},
   "outputs": [],
   "source": [
    "df_final_test = pd.concat([df_good_test, df_bad_test, df_neutral_test])"
   ]
  },
  {
   "cell_type": "code",
   "execution_count": 17,
   "id": "c4a9de98",
   "metadata": {},
   "outputs": [
    {
     "name": "stdout",
     "output_type": "stream",
     "text": [
      "<class 'pandas.core.frame.DataFrame'>\n",
      "Int64Index: 3000 entries, 39895 to 140926\n",
      "Data columns (total 4 columns):\n",
      " #   Column        Non-Null Count  Dtype \n",
      "---  ------        --------------  ----- \n",
      " 0   type_comment  3000 non-null   object\n",
      " 1   date_comment  3000 non-null   object\n",
      " 2   text_comment  3000 non-null   object\n",
      " 3   name_movie    3000 non-null   object\n",
      "dtypes: object(4)\n",
      "memory usage: 117.2+ KB\n"
     ]
    }
   ],
   "source": [
    "df_final_test.info()"
   ]
  },
  {
   "cell_type": "code",
   "execution_count": 18,
   "id": "d2e8e76a",
   "metadata": {},
   "outputs": [
    {
     "data": {
      "text/plain": [
       "good       1000\n",
       "bad        1000\n",
       "neutral    1000\n",
       "Name: type_comment, dtype: int64"
      ]
     },
     "execution_count": 18,
     "metadata": {},
     "output_type": "execute_result"
    }
   ],
   "source": [
    "df_final_test['type_comment'].value_counts()"
   ]
  },
  {
   "cell_type": "code",
   "execution_count": 19,
   "id": "93fc1251",
   "metadata": {},
   "outputs": [],
   "source": [
    "df_final_test['text_comment'] = df_final_test['text_comment'].map(lambda x: x.replace(r'\\n',''))"
   ]
  },
  {
   "cell_type": "code",
   "execution_count": 21,
   "id": "6b3ef9bf",
   "metadata": {},
   "outputs": [],
   "source": [
    "from sklearn.utils import shuffle\n",
    "df_final_test = shuffle(df_final_test)"
   ]
  },
  {
   "cell_type": "code",
   "execution_count": 22,
   "id": "9481035d",
   "metadata": {},
   "outputs": [],
   "source": [
    "with open('comments_test_1000_all.json', 'w', encoding='utf-8') as file:\n",
    "    df_final_test.to_json(file, force_ascii=False, orient=\"records\")"
   ]
  },
  {
   "cell_type": "code",
   "execution_count": null,
   "id": "854a144a",
   "metadata": {},
   "outputs": [],
   "source": []
  },
  {
   "cell_type": "code",
   "execution_count": null,
   "id": "c356b69e",
   "metadata": {},
   "outputs": [],
   "source": []
  },
  {
   "cell_type": "code",
   "execution_count": 25,
   "id": "f3c39ecf",
   "metadata": {},
   "outputs": [],
   "source": [
    "df_final_test_bad_good = pd.concat([df_good_test, df_bad_test])"
   ]
  },
  {
   "cell_type": "code",
   "execution_count": 26,
   "id": "33a7a80e",
   "metadata": {},
   "outputs": [
    {
     "name": "stdout",
     "output_type": "stream",
     "text": [
      "<class 'pandas.core.frame.DataFrame'>\n",
      "Int64Index: 2000 entries, 39895 to 411028\n",
      "Data columns (total 4 columns):\n",
      " #   Column        Non-Null Count  Dtype \n",
      "---  ------        --------------  ----- \n",
      " 0   type_comment  2000 non-null   object\n",
      " 1   date_comment  2000 non-null   object\n",
      " 2   text_comment  2000 non-null   object\n",
      " 3   name_movie    2000 non-null   object\n",
      "dtypes: object(4)\n",
      "memory usage: 78.1+ KB\n"
     ]
    }
   ],
   "source": [
    "df_final_test_bad_good.info()"
   ]
  },
  {
   "cell_type": "code",
   "execution_count": 27,
   "id": "6eb10d1a",
   "metadata": {},
   "outputs": [
    {
     "data": {
      "text/plain": [
       "good    1000\n",
       "bad     1000\n",
       "Name: type_comment, dtype: int64"
      ]
     },
     "execution_count": 27,
     "metadata": {},
     "output_type": "execute_result"
    }
   ],
   "source": [
    "df_final_test_bad_good['type_comment'].value_counts()"
   ]
  },
  {
   "cell_type": "code",
   "execution_count": 28,
   "id": "70765866",
   "metadata": {},
   "outputs": [],
   "source": [
    "df_final_test_bad_good['text_comment'] = df_final_test_bad_good['text_comment'].map(lambda x: x.replace(r'\\n',''))"
   ]
  },
  {
   "cell_type": "code",
   "execution_count": 29,
   "id": "f41a4fb9",
   "metadata": {},
   "outputs": [],
   "source": [
    "df_final_test_bad_good = shuffle(df_final_test_bad_good)"
   ]
  },
  {
   "cell_type": "code",
   "execution_count": 30,
   "id": "bfb63642",
   "metadata": {},
   "outputs": [],
   "source": [
    "with open('comments_test_1000_bad_good.json', 'w', encoding='utf-8') as file:\n",
    "    df_final_test_bad_good.to_json(file, force_ascii=False, orient=\"records\")"
   ]
  },
  {
   "cell_type": "code",
   "execution_count": null,
   "id": "dd51d19a",
   "metadata": {},
   "outputs": [],
   "source": []
  },
  {
   "cell_type": "code",
   "execution_count": null,
   "id": "ffdae637",
   "metadata": {},
   "outputs": [],
   "source": []
  },
  {
   "cell_type": "code",
   "execution_count": 31,
   "id": "eb12bdd3",
   "metadata": {},
   "outputs": [],
   "source": [
    "df_good = df_good.sample(88253)\n",
    "# df_bad_test = df_bad.sample(1000)\n",
    "df_neutral = df_neutral.sample(88253)\n",
    "# df_bad"
   ]
  },
  {
   "cell_type": "code",
   "execution_count": 32,
   "id": "69c907ea",
   "metadata": {},
   "outputs": [],
   "source": [
    "df_final_bad_good = pd.concat([df_good, df_bad])\n",
    "df_final_all = pd.concat([df_good, df_neutral, df_bad])"
   ]
  },
  {
   "cell_type": "code",
   "execution_count": 33,
   "id": "54ec4b56",
   "metadata": {},
   "outputs": [
    {
     "name": "stdout",
     "output_type": "stream",
     "text": [
      "<class 'pandas.core.frame.DataFrame'>\n",
      "Int64Index: 176506 entries, 17274 to 552670\n",
      "Data columns (total 4 columns):\n",
      " #   Column        Non-Null Count   Dtype \n",
      "---  ------        --------------   ----- \n",
      " 0   type_comment  176506 non-null  object\n",
      " 1   date_comment  176506 non-null  object\n",
      " 2   text_comment  176506 non-null  object\n",
      " 3   name_movie    176506 non-null  object\n",
      "dtypes: object(4)\n",
      "memory usage: 6.7+ MB\n"
     ]
    }
   ],
   "source": [
    "df_final_bad_good.info()"
   ]
  },
  {
   "cell_type": "code",
   "execution_count": 34,
   "id": "9bc90a00",
   "metadata": {},
   "outputs": [
    {
     "name": "stdout",
     "output_type": "stream",
     "text": [
      "<class 'pandas.core.frame.DataFrame'>\n",
      "Int64Index: 264759 entries, 17274 to 552670\n",
      "Data columns (total 4 columns):\n",
      " #   Column        Non-Null Count   Dtype \n",
      "---  ------        --------------   ----- \n",
      " 0   type_comment  264759 non-null  object\n",
      " 1   date_comment  264759 non-null  object\n",
      " 2   text_comment  264759 non-null  object\n",
      " 3   name_movie    264759 non-null  object\n",
      "dtypes: object(4)\n",
      "memory usage: 10.1+ MB\n"
     ]
    }
   ],
   "source": [
    "df_final_all.info()"
   ]
  },
  {
   "cell_type": "code",
   "execution_count": 35,
   "id": "e2951ef6",
   "metadata": {},
   "outputs": [
    {
     "data": {
      "text/plain": [
       "bad     88253\n",
       "good    88253\n",
       "Name: type_comment, dtype: int64"
      ]
     },
     "execution_count": 35,
     "metadata": {},
     "output_type": "execute_result"
    }
   ],
   "source": [
    "df_final_bad_good['type_comment'].value_counts()"
   ]
  },
  {
   "cell_type": "code",
   "execution_count": 36,
   "id": "4944145b",
   "metadata": {},
   "outputs": [
    {
     "data": {
      "text/plain": [
       "bad        88253\n",
       "neutral    88253\n",
       "good       88253\n",
       "Name: type_comment, dtype: int64"
      ]
     },
     "execution_count": 36,
     "metadata": {},
     "output_type": "execute_result"
    }
   ],
   "source": [
    "df_final_all['type_comment'].value_counts()"
   ]
  },
  {
   "cell_type": "code",
   "execution_count": 37,
   "id": "7a31d09d",
   "metadata": {},
   "outputs": [],
   "source": [
    "df_final_bad_good['text_comment'] = df_final_bad_good['text_comment'].map(lambda x: x.replace(r'\\n',''))\n",
    "df_final_all['text_comment'] = df_final_all['text_comment'].map(lambda x: x.replace(r'\\n',''))"
   ]
  },
  {
   "cell_type": "code",
   "execution_count": 38,
   "id": "0a4fbb1d",
   "metadata": {},
   "outputs": [],
   "source": [
    "df_final_bad_good = shuffle(df_final_bad_good)\n",
    "df_final_all = shuffle(df_final_all)"
   ]
  },
  {
   "cell_type": "code",
   "execution_count": 39,
   "id": "ee2b328e",
   "metadata": {},
   "outputs": [],
   "source": [
    "with open('comments_bad_good.json', 'w', encoding='utf-8') as file:\n",
    "    df_final_bad_good.to_json(file, force_ascii=False, orient=\"records\")"
   ]
  },
  {
   "cell_type": "code",
   "execution_count": 40,
   "id": "fe381994",
   "metadata": {},
   "outputs": [],
   "source": [
    "with open('comments_all.json', 'w', encoding='utf-8') as file:\n",
    "    df_final_all.to_json(file, force_ascii=False, orient=\"records\")"
   ]
  },
  {
   "cell_type": "markdown",
   "id": "93f109bb",
   "metadata": {},
   "source": [
    "что за разбиение было сделано в конце?\n",
    "\n",
    "1. были выделены рецензии по типам в отдельные dataframe.\n",
    "\n",
    "2. сделаны два небольших файла comments_test_1000_bad_good и comments_test_1000_all на которых планируется первоночально потренировать модель и чтобы это не занимало \"вечность\"\n",
    "\n",
    "3. сделаны два файла comments_all и comments_bad_good, на которых планируется запустить модель - тут планируется сделать основной результат.\n",
    "\n",
    "P.S. почему было сделано по два файла? \n",
    "есть предположение что нейстральные рецензии будут \"мешать\", поэтому хочется запустить модель и с ними, и без них."
   ]
  },
  {
   "cell_type": "code",
   "execution_count": null,
   "id": "9681b6e0",
   "metadata": {},
   "outputs": [],
   "source": []
  }
 ],
 "metadata": {
  "kernelspec": {
   "display_name": "Python 3",
   "language": "python",
   "name": "python3"
  },
  "language_info": {
   "codemirror_mode": {
    "name": "ipython",
    "version": 3
   },
   "file_extension": ".py",
   "mimetype": "text/x-python",
   "name": "python",
   "nbconvert_exporter": "python",
   "pygments_lexer": "ipython3",
   "version": "3.7.10"
  }
 },
 "nbformat": 4,
 "nbformat_minor": 5
}
