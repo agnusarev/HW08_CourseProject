{
 "cells": [
  {
   "cell_type": "code",
   "execution_count": 1,
   "id": "d5b671b6",
   "metadata": {},
   "outputs": [],
   "source": [
    "%matplotlib inline\n",
    "import matplotlib.pyplot as plt\n",
    "import numpy as np\n",
    "import pandas as pd\n",
    "import json\n",
    "from tqdm import tqdm_notebook\n",
    "from sklearn.metrics import *\n",
    "from sklearn.ensemble import GradientBoostingClassifier\n",
    "from sklearn.model_selection import train_test_split, RandomizedSearchCV, GridSearchCV\n",
    "from sklearn.feature_extraction.text import TfidfVectorizer\n",
    "import warnings\n",
    "import time\n",
    "import string # библиотека для работы со строками\n",
    "import re\n",
    "import nltk   # Natural Language Toolkit\n",
    "from sklearn.pipeline import Pipeline\n",
    "warnings.filterwarnings(\"ignore\") "
   ]
  },
  {
   "cell_type": "code",
   "execution_count": 2,
   "id": "e46184ba",
   "metadata": {},
   "outputs": [],
   "source": [
    "with open('comments_bad_good.json', encoding = 'utf-8') as json_file:\n",
    "    data = json.load(json_file)"
   ]
  },
  {
   "cell_type": "code",
   "execution_count": 3,
   "id": "6466c048",
   "metadata": {},
   "outputs": [
    {
     "name": "stdout",
     "output_type": "stream",
     "text": [
      "88253\n"
     ]
    }
   ],
   "source": [
    "print(len([x[\"type_comment\"] for x in data if x[\"type_comment\"] == 'bad']))"
   ]
  },
  {
   "cell_type": "code",
   "execution_count": 4,
   "id": "b41b3f9a",
   "metadata": {},
   "outputs": [],
   "source": [
    "def custom_preprocessor(text):\n",
    "    '''\n",
    "    Make text lowercase, remove text in square brackets,remove links,remove special characters\n",
    "    and remove words containing numbers.\n",
    "    '''\n",
    "    text = text.lower()\n",
    "    text = re.sub('\\[.*?\\]', '', text)\n",
    "    text = re.sub(\"\\\\W\",\" \",text) # remove special chars\n",
    "    text = re.sub('<.*?>+', '', text)\n",
    "    text = re.sub('[%s]' % re.escape(string.punctuation), '', text)\n",
    "    text = re.sub('\\n', '', text)\n",
    "    text = re.sub('\\w*\\d\\w*', '', text)\n",
    "    text = re.sub(' +', ' ', text)\n",
    "    \n",
    "    return text"
   ]
  },
  {
   "cell_type": "code",
   "execution_count": 5,
   "id": "f7d9c724",
   "metadata": {},
   "outputs": [
    {
     "name": "stdout",
     "output_type": "stream",
     "text": [
      "{'good', 'bad'}\n"
     ]
    }
   ],
   "source": [
    "print(set([x[\"type_comment\"] for x in data]))"
   ]
  },
  {
   "cell_type": "code",
   "execution_count": 6,
   "id": "836bc7be",
   "metadata": {},
   "outputs": [
    {
     "name": "stdout",
     "output_type": "stream",
     "text": [
      "movie:  Касабланка \n",
      "\n",
      "comment: \n",
      " Одним словом - гениально! Смотрел в 'Иллюзионе' в оригинале. Поражен игрой Богарта! Финал оставил внутри очень приятное чувство! Просто хотелось улыбаться! \n",
      "\n",
      "Несомненно 10 из 10! \n",
      "\n",
      "date:  30 ноября 2006 | 23:08 \n",
      "\n",
      "type:  good \n",
      "\n"
     ]
    }
   ],
   "source": [
    "num = 300 \n",
    "\n",
    "print(\"movie: \",          data[num][\"name_movie\"], \"\\n\")\n",
    "print(\"comment: \\n\",      data[num][\"text_comment\"], \"\\n\")\n",
    "print(\"date: \",           data[num][\"date_comment\"], \"\\n\")\n",
    "print(\"type: \",           data[num][\"type_comment\"], \"\\n\")"
   ]
  },
  {
   "cell_type": "code",
   "execution_count": 7,
   "id": "455aa2ad",
   "metadata": {},
   "outputs": [
    {
     "name": "stderr",
     "output_type": "stream",
     "text": [
      "[nltk_data] Downloading package stopwords to\n",
      "[nltk_data]     C:\\Users\\AlexandrGnusarev\\AppData\\Roaming\\nltk_data...\n",
      "[nltk_data]   Package stopwords is already up-to-date!\n"
     ]
    }
   ],
   "source": [
    "# загружаем список стоп-слов для русского\n",
    "nltk.download('stopwords')\n",
    "stop_words = nltk.corpus.stopwords.words('russian')\n",
    "\n",
    "# примеры стоп-слов\n",
    "# stop_words[:10]"
   ]
  },
  {
   "cell_type": "code",
   "execution_count": 8,
   "id": "6e1f3541",
   "metadata": {},
   "outputs": [],
   "source": [
    "dataFile = open('stopwords-ru.txt', encoding = 'utf-8')\n",
    "stopwords_new = []\n",
    "for line in dataFile:\n",
    "    stopwords_new.append(line.replace('\\n',''))"
   ]
  },
  {
   "cell_type": "code",
   "execution_count": 9,
   "id": "656b1f8d",
   "metadata": {},
   "outputs": [],
   "source": [
    "stop_words.extend(stopwords_new)"
   ]
  },
  {
   "cell_type": "code",
   "execution_count": 10,
   "id": "be00078a",
   "metadata": {},
   "outputs": [
    {
     "data": {
      "text/plain": [
       "['этих',\n",
       " 'это',\n",
       " 'этого',\n",
       " 'этой',\n",
       " 'этом',\n",
       " 'этому',\n",
       " 'этот',\n",
       " 'эту',\n",
       " 'я',\n",
       " 'являюсь']"
      ]
     },
     "execution_count": 10,
     "metadata": {},
     "output_type": "execute_result"
    }
   ],
   "source": [
    "stop_words[-10:]"
   ]
  },
  {
   "cell_type": "code",
   "execution_count": 11,
   "id": "628f120e",
   "metadata": {},
   "outputs": [],
   "source": [
    "word_tokenizer = nltk.WordPunctTokenizer()"
   ]
  },
  {
   "cell_type": "code",
   "execution_count": 12,
   "id": "e29098ac",
   "metadata": {},
   "outputs": [],
   "source": [
    "dates = [str(x) for x in np.arange(0, 2022)]\n",
    "def process_data(data):\n",
    "    texts = []\n",
    "    targets = []\n",
    "    \n",
    "    # поочередно проходим по всем новостям в списке\n",
    "    for item in tqdm_notebook(data):\n",
    "               \n",
    "#         text_lower = item['text_comment'].lower() # приводим все слова к нижнему регистру\n",
    "#         text_lower = ''.join(c for c in text_lower if c not in delSymbols)\n",
    "        text_lower = custom_preprocessor(item['text_comment'])\n",
    "        tokens     = word_tokenizer.tokenize(text_lower) #разбиваем екст на слова\n",
    "        \n",
    "        # удаляем пунктуацию и стоп-слова\n",
    "        tokens = [word for word in tokens if (word not in string.punctuation and word not in stop_words and word not in dates)]\n",
    "        \n",
    "        texts.append(tokens) # добавляем в предобработанный список\n",
    "    \n",
    "    return texts"
   ]
  },
  {
   "cell_type": "code",
   "execution_count": 13,
   "id": "e9d798e7",
   "metadata": {},
   "outputs": [
    {
     "data": {
      "application/vnd.jupyter.widget-view+json": {
       "model_id": "6125148343354785a57b69d991a50deb",
       "version_major": 2,
       "version_minor": 0
      },
      "text/plain": [
       "  0%|          | 0/176506 [00:00<?, ?it/s]"
      ]
     },
     "metadata": {},
     "output_type": "display_data"
    }
   ],
   "source": [
    "# запускаем нашу предобработку\n",
    "y = [item['type_comment'] for item in data]\n",
    "texts = process_data(data)"
   ]
  },
  {
   "cell_type": "code",
   "execution_count": 14,
   "id": "16ff481e",
   "metadata": {},
   "outputs": [],
   "source": [
    "# process_data(data[8]['type_comment'])"
   ]
  },
  {
   "cell_type": "code",
   "execution_count": 15,
   "id": "564ade39",
   "metadata": {},
   "outputs": [
    {
     "name": "stdout",
     "output_type": "stream",
     "text": [
      "Label:  good\n",
      "Tokens:  ['одним', 'словом', 'гениально', 'смотрел', 'иллюзионе', 'оригинале', 'поражен', 'игрой', 'богарта', 'финал', 'оставил', 'внутри', 'приятное', 'чувство', 'хотелось', 'улыбаться', 'несомненно']\n"
     ]
    }
   ],
   "source": [
    "# example\n",
    "i = 300\n",
    "print(\"Label: \", y[i])\n",
    "print(\"Tokens: \", texts[i][:20])"
   ]
  },
  {
   "cell_type": "code",
   "execution_count": 16,
   "id": "5c1c5c50",
   "metadata": {},
   "outputs": [],
   "source": [
    "# загружаем библиотеку для лемматизации\n",
    "import pymorphy2 # Морфологический анализатор\n",
    "\n",
    "# инициализируем лемматизатор :)\n",
    "morph = pymorphy2.MorphAnalyzer()"
   ]
  },
  {
   "cell_type": "code",
   "execution_count": 17,
   "id": "6ac0938a",
   "metadata": {},
   "outputs": [
    {
     "data": {
      "application/vnd.jupyter.widget-view+json": {
       "model_id": "4f3df75d2d264301b5341f58ebc4ddd2",
       "version_major": 2,
       "version_minor": 0
      },
      "text/plain": [
       "  0%|          | 0/176506 [00:00<?, ?it/s]"
      ]
     },
     "metadata": {},
     "output_type": "display_data"
    }
   ],
   "source": [
    "# применяем лемматизацию ко всем текстам\n",
    "for i in tqdm_notebook(range(len(texts))):           # tqdm_notebook создает шкалу прогресса :)\n",
    "    text_lemmatized = [morph.parse(x)[0].normal_form for x in texts[i]] # применяем лемматизацию для каждого слова в тексте\n",
    "    texts[i] = ' '.join(text_lemmatized)                # объединяем все слова в одну строку через пробел"
   ]
  },
  {
   "cell_type": "code",
   "execution_count": 31,
   "id": "ccce8322",
   "metadata": {},
   "outputs": [
    {
     "name": "stdout",
     "output_type": "stream",
     "text": [
      "Label:  good\n",
      "Text: \n",
      " один слово гениально смотреть иллюзион оригинал поразить игра богарт финал оставить внутри приятный чувство хотеться улыбаться несомненно\n"
     ]
    }
   ],
   "source": [
    "# посмотрим на пример\n",
    "i = 300\n",
    "print(\"Label: \",   y[i])\n",
    "print(\"Text: \\n\",  texts[i])"
   ]
  },
  {
   "cell_type": "code",
   "execution_count": 19,
   "id": "9d42e8d5",
   "metadata": {},
   "outputs": [
    {
     "data": {
      "text/plain": [
       "<function TextIOWrapper.close()>"
      ]
     },
     "execution_count": 19,
     "metadata": {},
     "output_type": "execute_result"
    }
   ],
   "source": [
    "myfile = open('text_lemmatized_bad_good.txt', mode='wt', encoding='utf-8')\n",
    "\n",
    "for lines in texts:\n",
    "    myfile.write(lines + '\\n')\n",
    "myfile.close"
   ]
  },
  {
   "cell_type": "code",
   "execution_count": 20,
   "id": "a927f0b3",
   "metadata": {},
   "outputs": [],
   "source": [
    "# Функция для кодирования лейблов\n",
    "def label2num(y):\n",
    "    if y == 'good':\n",
    "        return 1\n",
    "    if y == 'bad':\n",
    "        return -1\n",
    "    if y == 'neutral':\n",
    "        return 0\n",
    "\n",
    "encoded_y = [label2num(yy) for yy in y]"
   ]
  },
  {
   "cell_type": "code",
   "execution_count": 21,
   "id": "34c20eab",
   "metadata": {},
   "outputs": [],
   "source": [
    "from sklearn.model_selection import train_test_split\n",
    "train_texts, test_texts, train_y, test_y = train_test_split(texts, encoded_y, test_size=0.2, random_state=42, stratify = y)"
   ]
  },
  {
   "cell_type": "code",
   "execution_count": 22,
   "id": "77b29076",
   "metadata": {},
   "outputs": [],
   "source": [
    "vectorizer = TfidfVectorizer(max_df = 0.7,\n",
    "            max_features = 194,\n",
    "            min_df = 0.1,\n",
    "            norm = 'l2',\n",
    "            ngram_range=(1,1)) # возмем топ 200 слов\n",
    "# vectorizer.fit(train_texts)"
   ]
  },
  {
   "cell_type": "code",
   "execution_count": 23,
   "id": "8bbc9e68",
   "metadata": {},
   "outputs": [],
   "source": [
    "train_X = vectorizer.fit_transform(train_texts)\n",
    "test_X  = vectorizer.transform(test_texts)"
   ]
  },
  {
   "cell_type": "code",
   "execution_count": 24,
   "id": "4c500aeb",
   "metadata": {},
   "outputs": [
    {
     "name": "stdout",
     "output_type": "stream",
     "text": [
      "              precision    recall  f1-score   support\n",
      "\n",
      "          -1       0.78      0.78      0.78     17651\n",
      "           1       0.78      0.78      0.78     17651\n",
      "\n",
      "    accuracy                           0.78     35302\n",
      "   macro avg       0.78      0.78      0.78     35302\n",
      "weighted avg       0.78      0.78      0.78     35302\n",
      "\n"
     ]
    }
   ],
   "source": [
    "from sklearn.linear_model import LogisticRegression\n",
    "lg = LogisticRegression(C = 1.0, penalty = 'l2', solver = 'saga', random_state = 0)\n",
    "\n",
    "lg.fit(train_X, train_y)\n",
    "\n",
    "preds = lg.predict(test_X)\n",
    "\n",
    "print(classification_report(test_y, preds))"
   ]
  },
  {
   "cell_type": "code",
   "execution_count": 25,
   "id": "9c16c4f6",
   "metadata": {},
   "outputs": [
    {
     "data": {
      "text/plain": [
       "array([[13693,  3958],\n",
       "       [ 3967, 13684]], dtype=int64)"
      ]
     },
     "execution_count": 25,
     "metadata": {},
     "output_type": "execute_result"
    }
   ],
   "source": [
    "confusion_matrix(test_y, preds)"
   ]
  },
  {
   "cell_type": "code",
   "execution_count": 57,
   "id": "1a45aaa4",
   "metadata": {},
   "outputs": [],
   "source": [
    "x_tv=train_X.toarray()\n",
    "\n",
    "imdb_data_len = x_tv.shape[:][0]\n",
    "reviewLength = x_tv.shape[:][1]\n",
    "\n",
    "positive_list = [0] * reviewLength\n",
    "negative_list = [0] * reviewLength\n",
    "# neutral_list = [0] * reviewLength\n",
    "\n",
    "positive_amount = 0\n",
    "negative_amount = 0\n",
    "# neutral_amount = 0\n",
    "\n",
    "def addVectorizedReviewRow(lst, reviewLst, reviewLength):\n",
    "    for i in range(reviewLength):\n",
    "        lst[i] = lst[i] + reviewLst[i]\n",
    "    return lst\n",
    "\n",
    "def normalizeVectorizedReviewRow(lst, reviewLength, amount):\n",
    "    for i in range(reviewLength):\n",
    "        lst[i] = lst[i] / amount\n",
    "    return lst\n",
    "\n",
    "for i in range(imdb_data_len):\n",
    "    if y[i] == 'good':\n",
    "        positive_list = addVectorizedReviewRow(positive_list, x_tv[i], reviewLength)\n",
    "        positive_amount += 1\n",
    "#     elif y[i] == 'neutral':\n",
    "#         neutral_list = addVectorizedReviewRow(neutral_list,x_tv[i], reviewLength)\n",
    "#         neutral_amount += 1\n",
    "    else:\n",
    "        negative_list = addVectorizedReviewRow(negative_list,x_tv[i], reviewLength)\n",
    "        negative_amount += 1\n",
    "        \n",
    "positive_list = normalizeVectorizedReviewRow(positive_list, reviewLength, positive_amount)\n",
    "negative_list = normalizeVectorizedReviewRow(negative_list, reviewLength, negative_amount)\n",
    "# neutral_list = normalizeVectorizedReviewRow(neutral_list, reviewLength, neutral_amount)"
   ]
  },
  {
   "cell_type": "code",
   "execution_count": 27,
   "id": "77cedf5b",
   "metadata": {},
   "outputs": [
    {
     "data": {
      "image/png": "[encoded data removed]",
      "text/plain": [
       "<Figure size 1440x720 with 1 Axes>"
      ]
     },
     "metadata": {
      "needs_background": "light"
     },
     "output_type": "display_data"
    }
   ],
   "source": [
    "bow=pd.DataFrame(positive_list, vectorizer.get_feature_names())\n",
    "positive_text=bow.sort_values(by=0, ascending=False).iloc[:20]\n",
    "\n",
    "font = {'size'   : 20}\n",
    "\n",
    "plt.rc('font', **font)\n",
    "\n",
    "fig, ax = plt.subplots(figsize=(20, 10))\n",
    "\n",
    "ax.bar(positive_text.index.values, positive_text.T.iloc[:].values[0])\n",
    "plt.xticks(rotation=75)\n",
    "plt.xlabel(\"Stemmed Word\")\n",
    "plt.ylabel(\"Word_Frequency(Normalized)\")\n",
    "plt.show()"
   ]
  },
  {
   "cell_type": "code",
   "execution_count": 28,
   "id": "42d54d4c",
   "metadata": {},
   "outputs": [
    {
     "data": {
      "image/png": "[encoded data removed]",
      "text/plain": [
       "<Figure size 1440x720 with 1 Axes>"
      ]
     },
     "metadata": {
      "needs_background": "light"
     },
     "output_type": "display_data"
    }
   ],
   "source": [
    "bow=pd.DataFrame(negative_list, vectorizer.get_feature_names())\n",
    "negative_text=bow.sort_values(by=0, ascending=False).iloc[:20]\n",
    "\n",
    "font = {'size'   : 20}\n",
    "\n",
    "plt.rc('font', **font)\n",
    "\n",
    "fig, ax = plt.subplots(figsize=(20, 10))\n",
    "\n",
    "ax.bar(negative_text.index.values, negative_text.T.iloc[:].values[0])\n",
    "plt.xticks(rotation=75)\n",
    "plt.xlabel(\"Stemmed Word\")\n",
    "plt.ylabel(\"Word_Frequency(Normalized)\")\n",
    "plt.show()"
   ]
  },
  {
   "cell_type": "code",
   "execution_count": 29,
   "id": "120640f3",
   "metadata": {},
   "outputs": [],
   "source": [
    "# bow=pd.DataFrame(neutral_list, vectorizer.get_feature_names())\n",
    "# neutral_text=bow.sort_values(by=0, ascending=False).iloc[:20]\n",
    "\n",
    "# font = {'size'   : 20}\n",
    "\n",
    "# plt.rc('font', **font)\n",
    "\n",
    "# fig, ax = plt.subplots(figsize=(20, 10))\n",
    "\n",
    "# ax.bar(neutral_text.index.values, neutral_text.T.iloc[:].values[0])\n",
    "# plt.xticks(rotation=75)\n",
    "# plt.xlabel(\"Stemmed Word\")\n",
    "# plt.ylabel(\"Word_Frequency(Normalized)\")\n",
    "# plt.show()"
   ]
  },
  {
   "cell_type": "code",
   "execution_count": null,
   "id": "4efbb4da",
   "metadata": {},
   "outputs": [],
   "source": []
  },
  {
   "cell_type": "code",
   "execution_count": null,
   "id": "03bc0c6d",
   "metadata": {},
   "outputs": [],
   "source": []
  },
  {
   "cell_type": "code",
   "execution_count": null,
   "id": "9ff327b3",
   "metadata": {},
   "outputs": [],
   "source": []
  },
  {
   "cell_type": "code",
   "execution_count": null,
   "id": "e9f8d833",
   "metadata": {},
   "outputs": [],
   "source": []
  },
  {
   "cell_type": "code",
   "execution_count": null,
   "id": "1634e6e0",
   "metadata": {},
   "outputs": [],
   "source": []
  },
  {
   "cell_type": "code",
   "execution_count": null,
   "id": "bf56bb11",
   "metadata": {},
   "outputs": [],
   "source": []
  },
  {
   "cell_type": "code",
   "execution_count": null,
   "id": "3dd91abd",
   "metadata": {},
   "outputs": [],
   "source": []
  },
  {
   "cell_type": "code",
   "execution_count": null,
   "id": "13974ca0",
   "metadata": {},
   "outputs": [],
   "source": []
  },
  {
   "cell_type": "code",
   "execution_count": null,
   "id": "3788658a",
   "metadata": {},
   "outputs": [],
   "source": []
  },
  {
   "cell_type": "code",
   "execution_count": null,
   "id": "91250b65",
   "metadata": {},
   "outputs": [],
   "source": []
  },
  {
   "cell_type": "code",
   "execution_count": null,
   "id": "89bf7810",
   "metadata": {},
   "outputs": [],
   "source": []
  },
  {
   "cell_type": "code",
   "execution_count": null,
   "id": "9443a537",
   "metadata": {},
   "outputs": [],
   "source": []
  },
  {
   "cell_type": "code",
   "execution_count": null,
   "id": "966230f7",
   "metadata": {},
   "outputs": [],
   "source": []
  },
  {
   "cell_type": "code",
   "execution_count": null,
   "id": "66f8cae6",
   "metadata": {},
   "outputs": [],
   "source": []
  },
  {
   "cell_type": "code",
   "execution_count": null,
   "id": "893f2f44",
   "metadata": {},
   "outputs": [],
   "source": []
  },
  {
   "cell_type": "code",
   "execution_count": null,
   "id": "05febb85",
   "metadata": {},
   "outputs": [],
   "source": []
  },
  {
   "cell_type": "code",
   "execution_count": null,
   "id": "2d071990",
   "metadata": {},
   "outputs": [],
   "source": []
  },
  {
   "cell_type": "code",
   "execution_count": null,
   "id": "6ffd5a49",
   "metadata": {},
   "outputs": [],
   "source": []
  },
  {
   "cell_type": "code",
   "execution_count": null,
   "id": "d4aaff1a",
   "metadata": {},
   "outputs": [],
   "source": []
  },
  {
   "cell_type": "code",
   "execution_count": null,
   "id": "ee9870ab",
   "metadata": {},
   "outputs": [],
   "source": []
  },
  {
   "cell_type": "code",
   "execution_count": null,
   "id": "d3baa3b9",
   "metadata": {},
   "outputs": [],
   "source": []
  },
  {
   "cell_type": "code",
   "execution_count": null,
   "id": "0c802182",
   "metadata": {},
   "outputs": [],
   "source": []
  },
  {
   "cell_type": "code",
   "execution_count": null,
   "id": "91f6b43c",
   "metadata": {},
   "outputs": [],
   "source": []
  },
  {
   "cell_type": "code",
   "execution_count": null,
   "id": "86a5a0b2",
   "metadata": {},
   "outputs": [],
   "source": []
  },
  {
   "cell_type": "code",
   "execution_count": null,
   "id": "a29556c6",
   "metadata": {},
   "outputs": [],
   "source": []
  },
  {
   "cell_type": "code",
   "execution_count": null,
   "id": "1266ed4f",
   "metadata": {},
   "outputs": [],
   "source": []
  },
  {
   "cell_type": "code",
   "execution_count": null,
   "id": "5de04072",
   "metadata": {},
   "outputs": [],
   "source": []
  },
  {
   "cell_type": "code",
   "execution_count": null,
   "id": "c75768ab",
   "metadata": {},
   "outputs": [],
   "source": []
  },
  {
   "cell_type": "code",
   "execution_count": null,
   "id": "fafbf669",
   "metadata": {},
   "outputs": [],
   "source": []
  },
  {
   "cell_type": "code",
   "execution_count": null,
   "id": "5c1632a6",
   "metadata": {},
   "outputs": [],
   "source": []
  },
  {
   "cell_type": "code",
   "execution_count": null,
   "id": "e1e06493",
   "metadata": {},
   "outputs": [],
   "source": []
  },
  {
   "cell_type": "code",
   "execution_count": null,
   "id": "26de8d88",
   "metadata": {},
   "outputs": [],
   "source": []
  },
  {
   "cell_type": "code",
   "execution_count": null,
   "id": "5e71bd1d",
   "metadata": {},
   "outputs": [],
   "source": []
  },
  {
   "cell_type": "code",
   "execution_count": null,
   "id": "e1462e82",
   "metadata": {},
   "outputs": [],
   "source": []
  },
  {
   "cell_type": "code",
   "execution_count": null,
   "id": "200ad153",
   "metadata": {},
   "outputs": [],
   "source": []
  },
  {
   "cell_type": "code",
   "execution_count": null,
   "id": "41047c4a",
   "metadata": {},
   "outputs": [],
   "source": []
  },
  {
   "cell_type": "code",
   "execution_count": null,
   "id": "c9c929a4",
   "metadata": {},
   "outputs": [],
   "source": []
  },
  {
   "cell_type": "code",
   "execution_count": null,
   "id": "4bbcb291",
   "metadata": {},
   "outputs": [],
   "source": []
  },
  {
   "cell_type": "code",
   "execution_count": null,
   "id": "1bf8d23d",
   "metadata": {},
   "outputs": [],
   "source": []
  },
  {
   "cell_type": "code",
   "execution_count": null,
   "id": "6a49591f",
   "metadata": {},
   "outputs": [],
   "source": []
  }
 ],
 "metadata": {
  "kernelspec": {
   "display_name": "Python 3",
   "language": "python",
   "name": "python3"
  },
  "language_info": {
   "codemirror_mode": {
    "name": "ipython",
    "version": 3
   },
   "file_extension": ".py",
   "mimetype": "text/x-python",
   "name": "python",
   "nbconvert_exporter": "python",
   "pygments_lexer": "ipython3",
   "version": "3.8.8"
  }
 },
 "nbformat": 4,
 "nbformat_minor": 5
}
