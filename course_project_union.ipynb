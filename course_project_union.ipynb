{
 "cells": [
  {
   "cell_type": "code",
   "execution_count": 1,
   "id": "0d097066",
   "metadata": {},
   "outputs": [],
   "source": [
    "import pandas as pd\n",
    "import numpy as np\n",
    "import matplotlib.pyplot as plt\n",
    "import seaborn as sns\n",
    "import json\n",
    "from tqdm import tqdm_notebook\n",
    "\n",
    "import warnings\n",
    "warnings.filterwarnings(\"ignore\")\n",
    "\n",
    "%matplotlib inline"
   ]
  },
  {
   "cell_type": "markdown",
   "id": "d0486d70",
   "metadata": {},
   "source": [
    "данный файл по сути объединяет все данные которые удалось спарсить и пишет их в отдельный файл"
   ]
  },
  {
   "cell_type": "code",
   "execution_count": 2,
   "id": "795da574",
   "metadata": {},
   "outputs": [],
   "source": [
    "with open('comments_add_1.json', encoding = 'utf-8') as json_file:\n",
    "    data1 = json.load(json_file)\n",
    "with open('comments_add_2.json', encoding = 'utf-8') as json_file:\n",
    "    data2 = json.load(json_file)\n",
    "with open('comments_add_3.json', encoding = 'utf-8') as json_file:\n",
    "    data3 = json.load(json_file)\n",
    "with open('comments_add_4.json', encoding = 'utf-8') as json_file:\n",
    "    data4 = json.load(json_file)\n",
    "with open('comments_add_5.json', encoding = 'utf-8') as json_file:\n",
    "    data5 = json.load(json_file)\n",
    "with open('comments_add_6.json', encoding = 'utf-8') as json_file:\n",
    "    data6 = json.load(json_file)\n",
    "with open('comments_add_7.json', encoding = 'utf-8') as json_file:\n",
    "    data7 = json.load(json_file)\n",
    "with open('comments_add_8.json', encoding = 'utf-8') as json_file:\n",
    "    data8 = json.load(json_file)\n",
    "with open('comments_add_9.json', encoding = 'utf-8') as json_file:\n",
    "    data9 = json.load(json_file)\n",
    "with open('comments_all.json', encoding = 'utf-8') as json_file:\n",
    "    data10 = json.load(json_file)"
   ]
  },
  {
   "cell_type": "code",
   "execution_count": 3,
   "id": "18d4111a",
   "metadata": {},
   "outputs": [],
   "source": [
    "df1 = pd.DataFrame.from_dict(data1, orient='columns')\n",
    "df2 = pd.DataFrame.from_dict(data2, orient='columns')\n",
    "df3 = pd.DataFrame.from_dict(data3, orient='columns')\n",
    "df4 = pd.DataFrame.from_dict(data4, orient='columns')\n",
    "df5 = pd.DataFrame.from_dict(data5, orient='columns')\n",
    "df6 = pd.DataFrame.from_dict(data6, orient='columns')\n",
    "df7 = pd.DataFrame.from_dict(data7, orient='columns')\n",
    "df8 = pd.DataFrame.from_dict(data8, orient='columns')\n",
    "df9 = pd.DataFrame.from_dict(data9, orient='columns')\n",
    "df10 = pd.DataFrame.from_dict(data10, orient='columns')"
   ]
  },
  {
   "cell_type": "code",
   "execution_count": 4,
   "id": "af04d96d",
   "metadata": {},
   "outputs": [],
   "source": [
    "df_final = pd.concat([df1, df2, df3, df4, df5, df6, df7, df8, df9, df10])"
   ]
  },
  {
   "cell_type": "code",
   "execution_count": 5,
   "id": "62caa80e",
   "metadata": {},
   "outputs": [
    {
     "name": "stdout",
     "output_type": "stream",
     "text": [
      "<class 'pandas.core.frame.DataFrame'>\n",
      "Int64Index: 554710 entries, 0 to 105332\n",
      "Data columns (total 4 columns):\n",
      " #   Column        Non-Null Count   Dtype \n",
      "---  ------        --------------   ----- \n",
      " 0   type_comment  554710 non-null  object\n",
      " 1   date_comment  554710 non-null  object\n",
      " 2   text_comment  554710 non-null  object\n",
      " 3   name_movie    554710 non-null  object\n",
      "dtypes: object(4)\n",
      "memory usage: 21.2+ MB\n"
     ]
    }
   ],
   "source": [
    "df_final.info()"
   ]
  },
  {
   "cell_type": "code",
   "execution_count": 6,
   "id": "780c99bc",
   "metadata": {},
   "outputs": [],
   "source": [
    "df_final = df_final.drop_duplicates(subset=['text_comment'])"
   ]
  },
  {
   "cell_type": "code",
   "execution_count": 7,
   "id": "07b9b089",
   "metadata": {},
   "outputs": [
    {
     "name": "stdout",
     "output_type": "stream",
     "text": [
      "<class 'pandas.core.frame.DataFrame'>\n",
      "Int64Index: 552671 entries, 0 to 105332\n",
      "Data columns (total 4 columns):\n",
      " #   Column        Non-Null Count   Dtype \n",
      "---  ------        --------------   ----- \n",
      " 0   type_comment  552671 non-null  object\n",
      " 1   date_comment  552671 non-null  object\n",
      " 2   text_comment  552671 non-null  object\n",
      " 3   name_movie    552671 non-null  object\n",
      "dtypes: object(4)\n",
      "memory usage: 21.1+ MB\n"
     ]
    }
   ],
   "source": [
    "df_final.info()"
   ]
  },
  {
   "cell_type": "code",
   "execution_count": 8,
   "id": "4b507b37",
   "metadata": {},
   "outputs": [],
   "source": [
    "with open('comments_full.json', 'w', encoding='utf-8') as file:\n",
    "    df_final.to_json(file, force_ascii=False, orient=\"records\")"
   ]
  },
  {
   "cell_type": "code",
   "execution_count": null,
   "id": "e0500435",
   "metadata": {},
   "outputs": [],
   "source": []
  },
  {
   "cell_type": "code",
   "execution_count": null,
   "id": "4e3e7b3a",
   "metadata": {},
   "outputs": [],
   "source": []
  },
  {
   "cell_type": "code",
   "execution_count": null,
   "id": "b3b31d91",
   "metadata": {},
   "outputs": [],
   "source": []
  }
 ],
 "metadata": {
  "kernelspec": {
   "display_name": "Python 3 (ipykernel)",
   "language": "python",
   "name": "python3"
  },
  "language_info": {
   "codemirror_mode": {
    "name": "ipython",
    "version": 3
   },
   "file_extension": ".py",
   "mimetype": "text/x-python",
   "name": "python",
   "nbconvert_exporter": "python",
   "pygments_lexer": "ipython3",
   "version": "3.7.10"
  }
 },
 "nbformat": 4,
 "nbformat_minor": 5
}
